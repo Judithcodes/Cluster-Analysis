{
 "cells": [
  {
   "cell_type": "markdown",
   "metadata": {},
   "source": [
    "# Cluster Analysis"
   ]
  },
  {
   "cell_type": "markdown",
   "metadata": {},
   "source": [
    "Cluster analysis is a multivariate statistical technique that groups observations on the basis some of their features or variables they are described by, such that:\n",
    "\n",
    "    1. Examples within a cluster are similar (in this case, we speak of high intraclass similarity).\n",
    "    2. Examples in different clusters are different (in this case, we speak of low interclass similarity)\n",
    "\n",
    "Measuring the similatity/dissimilarity we can discover implicit patterns in the data in an unsupervised manner, even when no category label is provided. Cluster analysis help us describe, analyze, and gain insight into the data. On the other hand, much of what we can learn from the data depends solely on our ability to interpret the results. That's why it is so important to understand the techniques and how it works.\n",
    "\n",
    "This notebook is aimed to provide a discussion about Clustering methods, and we are mainly interested in the following topics:\n",
    "\n",
    "    1. How to perform cluster analysis\n",
    "    2. How to find the optimal number of clusters\n",
    "    3. How to identify appropriate features\n",
    "    4. What objective measures can be defined to evaluate the quality of the clusters\n",
    "    5. How to interpret the results"
   ]
  },
  {
   "cell_type": "markdown",
   "metadata": {},
   "source": [
    "### Math Pre-requisites"
   ]
  },
  {
   "cell_type": "markdown",
   "metadata": {},
   "source": [
    "In order to study and apply efficiently the K-means clustering method, we need to understand its underlying procedure. In other words, we must understand the mathematical approach behind the technique. We will define two concepts here, the **euclidian distance** and the concept of **centroid**.\n",
    "\n",
    "______________\n",
    "#### Euclidean distance\n",
    "\n",
    "the Euclidean distance between two points $x$ and $y$ in a bidimensional space is the **length of the line** connecting them.\n",
    "\n",
    "<img src='images/euclidean.png'>\n",
    "\n",
    "As you can see from the figure, we can draw a triangle in the plane with the coordinate of the points. Consequently, the distance (the length of the blue line) is given by the Pythagoras' theorem. Therefore,\n",
    "\n",
    "$$d(x,y)^2 = (y_1 - x_1)^2 + (y_2 - x_2)^2$$ \n",
    "\n",
    "where $x = (x_1,x_2)$ and $y = (y_1,y_2)$ are the coordinates of the points $x$ and $y$, respectively. The equation can be written in the following way\n",
    "\n",
    "$$d(x,y) = \\sqrt{(y_1 - x_1)^2 + (y_2 - x_2)^2}$$ \n",
    "\n",
    "analogously, we can also use this result for n-dimensional spaces. In this way, for $x = (x_1, x_2, ... , x_n)$ and $y = (y_1, y_2, ... , y_n)$\n",
    "\n",
    "$$d(x,y) = \\sqrt{(y_1 - x_1)^2 + (y_2 - x_2)^2 + ... + (y_n - x_n)^2}$$ \n",
    "\n",
    "_____________\n",
    "#### Centroid\n",
    "\n",
    "In mathematics and physics, the centroid or geometric center of a plane figure is the **arithmetic mean position** of all the points in the figure. For example, take 3 points, $a = (2, 1)$, $b = (3, 4)$ and $c = (4, 1)$. the centroid, $\\alpha$, is given by \n",
    "\n",
    "$$\\alpha = (\\tfrac{2 + 3 + 4}{3},\\tfrac{1 + 4 + 1}{3}) = (3, 2)$$\n",
    "\n",
    "Maybe it will be easier if we visualize the points\n",
    "\n",
    "<img src='images/centroid.png'>\n",
    "\n",
    "This is a simple example but we can extend this result to more complex situations and any number of points."
   ]
  },
  {
   "cell_type": "markdown",
   "metadata": {},
   "source": [
    "## 1. K-Means Clustering"
   ]
  },
  {
   "cell_type": "markdown",
   "metadata": {},
   "source": [
    "In this section, we will study the **K-Means Clustering model**. K-means algorithm divides a set of $n$ samples $X$ into $k$ disjoint clusters $c_i$, $i = 1, 2, ... , k$, each described by the mean $\\mu_i$ of the samples in the cluster. The means are commonly called cluster _centroids_. The K-means algorithm assumes that all k groups have equal variance.\n",
    "\n",
    "Roughly saying, The K-means algorithm perform the following steps:\n",
    "\n",
    "   1. Choose the number (K) of clusters\n",
    "   2. Specify the cluster seeds (Define the initial position of the centroids)\n",
    "   3. Assign each point to a centroid based in its proximity (if the centroid $\\alpha$ is the nearest centroid to the point $p$, then assign $p$ to $\\alpha$, do this for all points)\n",
    "   4. Adjust the centroid (recalculate the position of each centroid based in the points assigned to them)\n",
    "   5. Repeat step 3 and 4, until achieve a stop criteria.\n",
    "   6. After achieve a stop criteria, end execution."
   ]
  },
  {
   "cell_type": "code",
   "execution_count": 1,
   "metadata": {},
   "outputs": [],
   "source": [
    "import numpy as np\n",
    "import pandas as pd\n",
    "import matplotlib.pyplot as plt\n",
    "import seaborn as sns\n",
    "sns.set()\n",
    "from sklearn.cluster import KMeans"
   ]
  },
  {
   "cell_type": "markdown",
   "metadata": {},
   "source": [
    "### Example 1"
   ]
  },
  {
   "cell_type": "markdown",
   "metadata": {},
   "source": [
    "We will start with a simple example. It is provided a dataset with geographical information of six countries. We will performing K-Means clustering in this dataset and interpret the results yielded by the model."
   ]
  },
  {
   "cell_type": "markdown",
   "metadata": {},
   "source": [
    "#### Load the data"
   ]
  },
  {
   "cell_type": "code",
   "execution_count": 2,
   "metadata": {},
   "outputs": [
    {
     "data": {
      "text/html": [
       "<div>\n",
       "<style scoped>\n",
       "    .dataframe tbody tr th:only-of-type {\n",
       "        vertical-align: middle;\n",
       "    }\n",
       "\n",
       "    .dataframe tbody tr th {\n",
       "        vertical-align: top;\n",
       "    }\n",
       "\n",
       "    .dataframe thead th {\n",
       "        text-align: right;\n",
       "    }\n",
       "</style>\n",
       "<table border=\"1\" class=\"dataframe\">\n",
       "  <thead>\n",
       "    <tr style=\"text-align: right;\">\n",
       "      <th></th>\n",
       "      <th>Country</th>\n",
       "      <th>Latitude</th>\n",
       "      <th>Longitude</th>\n",
       "      <th>Language</th>\n",
       "    </tr>\n",
       "  </thead>\n",
       "  <tbody>\n",
       "    <tr>\n",
       "      <th>0</th>\n",
       "      <td>USA</td>\n",
       "      <td>44.97</td>\n",
       "      <td>-103.77</td>\n",
       "      <td>English</td>\n",
       "    </tr>\n",
       "    <tr>\n",
       "      <th>1</th>\n",
       "      <td>Canada</td>\n",
       "      <td>62.40</td>\n",
       "      <td>-96.80</td>\n",
       "      <td>English</td>\n",
       "    </tr>\n",
       "    <tr>\n",
       "      <th>2</th>\n",
       "      <td>France</td>\n",
       "      <td>46.75</td>\n",
       "      <td>2.40</td>\n",
       "      <td>French</td>\n",
       "    </tr>\n",
       "    <tr>\n",
       "      <th>3</th>\n",
       "      <td>UK</td>\n",
       "      <td>54.01</td>\n",
       "      <td>-2.53</td>\n",
       "      <td>English</td>\n",
       "    </tr>\n",
       "    <tr>\n",
       "      <th>4</th>\n",
       "      <td>Germany</td>\n",
       "      <td>51.15</td>\n",
       "      <td>10.40</td>\n",
       "      <td>German</td>\n",
       "    </tr>\n",
       "    <tr>\n",
       "      <th>5</th>\n",
       "      <td>Australia</td>\n",
       "      <td>-25.45</td>\n",
       "      <td>133.11</td>\n",
       "      <td>English</td>\n",
       "    </tr>\n",
       "  </tbody>\n",
       "</table>\n",
       "</div>"
      ],
      "text/plain": [
       "     Country  Latitude  Longitude Language\n",
       "0        USA     44.97    -103.77  English\n",
       "1     Canada     62.40     -96.80  English\n",
       "2     France     46.75       2.40   French\n",
       "3         UK     54.01      -2.53  English\n",
       "4    Germany     51.15      10.40   German\n",
       "5  Australia    -25.45     133.11  English"
      ]
     },
     "execution_count": 2,
     "metadata": {},
     "output_type": "execute_result"
    }
   ],
   "source": [
    "country_data = pd.read_csv('datasets/Country clusters.csv')\n",
    "country_data"
   ]
  },
  {
   "cell_type": "markdown",
   "metadata": {},
   "source": [
    "The entries for the Latitude and Longitude columns correspond to the geographic centers of the countries of the dataset in decimal degrees unit. You can verify these values by entering the geographic centers of each country in a website like [latlong](https://www.latlong.net/).\n",
    "\n",
    "Below, we plot the latitude and longitude coordinates by adjusting the scale for the x and y axis in order to appropriately represent the coordinates of the geographic centers of each country."
   ]
  },
  {
   "cell_type": "code",
   "execution_count": 3,
   "metadata": {},
   "outputs": [
    {
     "data": {
      "image/png": "[encoded data removed]",
      "text/plain": [
       "<Figure size 432x288 with 1 Axes>"
      ]
     },
     "metadata": {
      "needs_background": "light"
     },
     "output_type": "display_data"
    }
   ],
   "source": [
    "plt.scatter(country_data['Longitude'], country_data['Latitude'])\n",
    "plt.xlim(-180,180)\n",
    "plt.ylim(-90, 90)\n",
    "plt.show()"
   ]
  },
  {
   "cell_type": "markdown",
   "metadata": {},
   "source": [
    "Our first Clustering will be performed using only the latitude and longitude as features. So, we need to slice the dataFrame containing the desired features and then apply the fit method to the model."
   ]
  },
  {
   "cell_type": "markdown",
   "metadata": {},
   "source": [
    "#### Clustering"
   ]
  },
  {
   "cell_type": "code",
   "execution_count": 4,
   "metadata": {},
   "outputs": [
    {
     "data": {
      "text/html": [
       "<div>\n",
       "<style scoped>\n",
       "    .dataframe tbody tr th:only-of-type {\n",
       "        vertical-align: middle;\n",
       "    }\n",
       "\n",
       "    .dataframe tbody tr th {\n",
       "        vertical-align: top;\n",
       "    }\n",
       "\n",
       "    .dataframe thead th {\n",
       "        text-align: right;\n",
       "    }\n",
       "</style>\n",
       "<table border=\"1\" class=\"dataframe\">\n",
       "  <thead>\n",
       "    <tr style=\"text-align: right;\">\n",
       "      <th></th>\n",
       "      <th>Latitude</th>\n",
       "      <th>Longitude</th>\n",
       "    </tr>\n",
       "  </thead>\n",
       "  <tbody>\n",
       "    <tr>\n",
       "      <th>0</th>\n",
       "      <td>44.97</td>\n",
       "      <td>-103.77</td>\n",
       "    </tr>\n",
       "    <tr>\n",
       "      <th>1</th>\n",
       "      <td>62.40</td>\n",
       "      <td>-96.80</td>\n",
       "    </tr>\n",
       "    <tr>\n",
       "      <th>2</th>\n",
       "      <td>46.75</td>\n",
       "      <td>2.40</td>\n",
       "    </tr>\n",
       "    <tr>\n",
       "      <th>3</th>\n",
       "      <td>54.01</td>\n",
       "      <td>-2.53</td>\n",
       "    </tr>\n",
       "    <tr>\n",
       "      <th>4</th>\n",
       "      <td>51.15</td>\n",
       "      <td>10.40</td>\n",
       "    </tr>\n",
       "    <tr>\n",
       "      <th>5</th>\n",
       "      <td>-25.45</td>\n",
       "      <td>133.11</td>\n",
       "    </tr>\n",
       "  </tbody>\n",
       "</table>\n",
       "</div>"
      ],
      "text/plain": [
       "   Latitude  Longitude\n",
       "0     44.97    -103.77\n",
       "1     62.40     -96.80\n",
       "2     46.75       2.40\n",
       "3     54.01      -2.53\n",
       "4     51.15      10.40\n",
       "5    -25.45     133.11"
      ]
     },
     "execution_count": 4,
     "metadata": {},
     "output_type": "execute_result"
    }
   ],
   "source": [
    "# Slicing the data to get the Latitude and Longitude Columns\n",
    "x = country_data.iloc[:,1:3]\n",
    "x"
   ]
  },
  {
   "cell_type": "code",
   "execution_count": 5,
   "metadata": {},
   "outputs": [],
   "source": [
    "# Instantiating a new model with 3 clusters\n",
    "kmeans = KMeans(3)\n",
    "clusters = kmeans.fit_predict(x)"
   ]
  },
  {
   "cell_type": "code",
   "execution_count": 6,
   "metadata": {},
   "outputs": [
    {
     "data": {
      "text/html": [
       "<div>\n",
       "<style scoped>\n",
       "    .dataframe tbody tr th:only-of-type {\n",
       "        vertical-align: middle;\n",
       "    }\n",
       "\n",
       "    .dataframe tbody tr th {\n",
       "        vertical-align: top;\n",
       "    }\n",
       "\n",
       "    .dataframe thead th {\n",
       "        text-align: right;\n",
       "    }\n",
       "</style>\n",
       "<table border=\"1\" class=\"dataframe\">\n",
       "  <thead>\n",
       "    <tr style=\"text-align: right;\">\n",
       "      <th></th>\n",
       "      <th>Country</th>\n",
       "      <th>Latitude</th>\n",
       "      <th>Longitude</th>\n",
       "      <th>Language</th>\n",
       "      <th>Clusters</th>\n",
       "    </tr>\n",
       "  </thead>\n",
       "  <tbody>\n",
       "    <tr>\n",
       "      <th>0</th>\n",
       "      <td>USA</td>\n",
       "      <td>44.97</td>\n",
       "      <td>-103.77</td>\n",
       "      <td>English</td>\n",
       "      <td>1</td>\n",
       "    </tr>\n",
       "    <tr>\n",
       "      <th>1</th>\n",
       "      <td>Canada</td>\n",
       "      <td>62.40</td>\n",
       "      <td>-96.80</td>\n",
       "      <td>English</td>\n",
       "      <td>1</td>\n",
       "    </tr>\n",
       "    <tr>\n",
       "      <th>2</th>\n",
       "      <td>France</td>\n",
       "      <td>46.75</td>\n",
       "      <td>2.40</td>\n",
       "      <td>French</td>\n",
       "      <td>0</td>\n",
       "    </tr>\n",
       "    <tr>\n",
       "      <th>3</th>\n",
       "      <td>UK</td>\n",
       "      <td>54.01</td>\n",
       "      <td>-2.53</td>\n",
       "      <td>English</td>\n",
       "      <td>0</td>\n",
       "    </tr>\n",
       "    <tr>\n",
       "      <th>4</th>\n",
       "      <td>Germany</td>\n",
       "      <td>51.15</td>\n",
       "      <td>10.40</td>\n",
       "      <td>German</td>\n",
       "      <td>0</td>\n",
       "    </tr>\n",
       "    <tr>\n",
       "      <th>5</th>\n",
       "      <td>Australia</td>\n",
       "      <td>-25.45</td>\n",
       "      <td>133.11</td>\n",
       "      <td>English</td>\n",
       "      <td>2</td>\n",
       "    </tr>\n",
       "  </tbody>\n",
       "</table>\n",
       "</div>"
      ],
      "text/plain": [
       "     Country  Latitude  Longitude Language  Clusters\n",
       "0        USA     44.97    -103.77  English         1\n",
       "1     Canada     62.40     -96.80  English         1\n",
       "2     France     46.75       2.40   French         0\n",
       "3         UK     54.01      -2.53  English         0\n",
       "4    Germany     51.15      10.40   German         0\n",
       "5  Australia    -25.45     133.11  English         2"
      ]
     },
     "execution_count": 6,
     "metadata": {},
     "output_type": "execute_result"
    }
   ],
   "source": [
    "data_with_clusters = country_data.copy()\n",
    "\n",
    "# Assigning the cluster label of each country into the new dataFrame\n",
    "data_with_clusters['Clusters'] = clusters\n",
    "data_with_clusters"
   ]
  },
  {
   "cell_type": "markdown",
   "metadata": {},
   "source": [
    "#### Plotting and Interpreting the results"
   ]
  },
  {
   "cell_type": "code",
   "execution_count": 7,
   "metadata": {},
   "outputs": [
    {
     "data": {
      "image/png": "[encoded data removed]",
      "text/plain": [
       "<Figure size 432x288 with 1 Axes>"
      ]
     },
     "metadata": {
      "needs_background": "light"
     },
     "output_type": "display_data"
    }
   ],
   "source": [
    "plt.scatter(data_with_clusters['Longitude'], data_with_clusters['Latitude'], c=clusters, cmap='rainbow')\n",
    "plt.xlim(-180, 180)\n",
    "plt.ylim(-90, 90)\n",
    "plt.show()"
   ]
  },
  {
   "cell_type": "markdown",
   "metadata": {},
   "source": [
    "We certainly accomplished a very interesting resulting here. As we defined a model with 3 clusters, the Kmeans model split the data into three clusters.\n",
    "\n",
    "$C_0 =$ {Canada, USA}, $C_1 =$ {Australia} and $C_2 =$ {France, UK, Germany}.\n",
    "\n",
    "We can interpret each cluster as a continent. As we only used the coordinates as features, the model assigned each country to its corresponding continent."
   ]
  },
  {
   "cell_type": "code",
   "execution_count": 8,
   "metadata": {},
   "outputs": [
    {
     "data": {
      "text/html": [
       "<div>\n",
       "<style scoped>\n",
       "    .dataframe tbody tr th:only-of-type {\n",
       "        vertical-align: middle;\n",
       "    }\n",
       "\n",
       "    .dataframe tbody tr th {\n",
       "        vertical-align: top;\n",
       "    }\n",
       "\n",
       "    .dataframe thead th {\n",
       "        text-align: right;\n",
       "    }\n",
       "</style>\n",
       "<table border=\"1\" class=\"dataframe\">\n",
       "  <thead>\n",
       "    <tr style=\"text-align: right;\">\n",
       "      <th></th>\n",
       "      <th>Country</th>\n",
       "      <th>Latitude</th>\n",
       "      <th>Longitude</th>\n",
       "      <th>Language</th>\n",
       "      <th>Continent</th>\n",
       "    </tr>\n",
       "  </thead>\n",
       "  <tbody>\n",
       "    <tr>\n",
       "      <th>0</th>\n",
       "      <td>USA</td>\n",
       "      <td>44.97</td>\n",
       "      <td>-103.77</td>\n",
       "      <td>English</td>\n",
       "      <td>Oceania</td>\n",
       "    </tr>\n",
       "    <tr>\n",
       "      <th>1</th>\n",
       "      <td>Canada</td>\n",
       "      <td>62.40</td>\n",
       "      <td>-96.80</td>\n",
       "      <td>English</td>\n",
       "      <td>Oceania</td>\n",
       "    </tr>\n",
       "    <tr>\n",
       "      <th>2</th>\n",
       "      <td>France</td>\n",
       "      <td>46.75</td>\n",
       "      <td>2.40</td>\n",
       "      <td>French</td>\n",
       "      <td>Europe</td>\n",
       "    </tr>\n",
       "    <tr>\n",
       "      <th>3</th>\n",
       "      <td>UK</td>\n",
       "      <td>54.01</td>\n",
       "      <td>-2.53</td>\n",
       "      <td>English</td>\n",
       "      <td>Europe</td>\n",
       "    </tr>\n",
       "    <tr>\n",
       "      <th>4</th>\n",
       "      <td>Germany</td>\n",
       "      <td>51.15</td>\n",
       "      <td>10.40</td>\n",
       "      <td>German</td>\n",
       "      <td>Europe</td>\n",
       "    </tr>\n",
       "    <tr>\n",
       "      <th>5</th>\n",
       "      <td>Australia</td>\n",
       "      <td>-25.45</td>\n",
       "      <td>133.11</td>\n",
       "      <td>English</td>\n",
       "      <td>North America</td>\n",
       "    </tr>\n",
       "  </tbody>\n",
       "</table>\n",
       "</div>"
      ],
      "text/plain": [
       "     Country  Latitude  Longitude Language      Continent\n",
       "0        USA     44.97    -103.77  English        Oceania\n",
       "1     Canada     62.40     -96.80  English        Oceania\n",
       "2     France     46.75       2.40   French         Europe\n",
       "3         UK     54.01      -2.53  English         Europe\n",
       "4    Germany     51.15      10.40   German         Europe\n",
       "5  Australia    -25.45     133.11  English  North America"
      ]
     },
     "execution_count": 8,
     "metadata": {},
     "output_type": "execute_result"
    }
   ],
   "source": [
    "data_with_clusters['Continent'] = data_with_clusters['Clusters'].map({0: 'Europe', 1: 'Oceania', 2: 'North America'})\n",
    "data_with_clusters = data_with_clusters.drop('Clusters', axis=1)\n",
    "data_with_clusters"
   ]
  },
  {
   "cell_type": "markdown",
   "metadata": {},
   "source": [
    "#### Changing the approach"
   ]
  },
  {
   "cell_type": "markdown",
   "metadata": {},
   "source": [
    "Also, one could analyze the dataset with respect to the language column. As the language column records are object types, before fit the model we must map the languages names into numbers. So, Let's do it!"
   ]
  },
  {
   "cell_type": "code",
   "execution_count": 9,
   "metadata": {},
   "outputs": [
    {
     "data": {
      "text/html": [
       "<div>\n",
       "<style scoped>\n",
       "    .dataframe tbody tr th:only-of-type {\n",
       "        vertical-align: middle;\n",
       "    }\n",
       "\n",
       "    .dataframe tbody tr th {\n",
       "        vertical-align: top;\n",
       "    }\n",
       "\n",
       "    .dataframe thead th {\n",
       "        text-align: right;\n",
       "    }\n",
       "</style>\n",
       "<table border=\"1\" class=\"dataframe\">\n",
       "  <thead>\n",
       "    <tr style=\"text-align: right;\">\n",
       "      <th></th>\n",
       "      <th>Country</th>\n",
       "      <th>Latitude</th>\n",
       "      <th>Longitude</th>\n",
       "      <th>Language</th>\n",
       "    </tr>\n",
       "  </thead>\n",
       "  <tbody>\n",
       "    <tr>\n",
       "      <th>0</th>\n",
       "      <td>USA</td>\n",
       "      <td>44.97</td>\n",
       "      <td>-103.77</td>\n",
       "      <td>0</td>\n",
       "    </tr>\n",
       "    <tr>\n",
       "      <th>1</th>\n",
       "      <td>Canada</td>\n",
       "      <td>62.40</td>\n",
       "      <td>-96.80</td>\n",
       "      <td>0</td>\n",
       "    </tr>\n",
       "    <tr>\n",
       "      <th>2</th>\n",
       "      <td>France</td>\n",
       "      <td>46.75</td>\n",
       "      <td>2.40</td>\n",
       "      <td>1</td>\n",
       "    </tr>\n",
       "    <tr>\n",
       "      <th>3</th>\n",
       "      <td>UK</td>\n",
       "      <td>54.01</td>\n",
       "      <td>-2.53</td>\n",
       "      <td>0</td>\n",
       "    </tr>\n",
       "    <tr>\n",
       "      <th>4</th>\n",
       "      <td>Germany</td>\n",
       "      <td>51.15</td>\n",
       "      <td>10.40</td>\n",
       "      <td>2</td>\n",
       "    </tr>\n",
       "    <tr>\n",
       "      <th>5</th>\n",
       "      <td>Australia</td>\n",
       "      <td>-25.45</td>\n",
       "      <td>133.11</td>\n",
       "      <td>0</td>\n",
       "    </tr>\n",
       "  </tbody>\n",
       "</table>\n",
       "</div>"
      ],
      "text/plain": [
       "     Country  Latitude  Longitude  Language\n",
       "0        USA     44.97    -103.77         0\n",
       "1     Canada     62.40     -96.80         0\n",
       "2     France     46.75       2.40         1\n",
       "3         UK     54.01      -2.53         0\n",
       "4    Germany     51.15      10.40         2\n",
       "5  Australia    -25.45     133.11         0"
      ]
     },
     "execution_count": 9,
     "metadata": {},
     "output_type": "execute_result"
    }
   ],
   "source": [
    "data_mapped = country_data.copy()\n",
    "data_mapped['Language'] = country_data['Language'].map({'English':0, 'French':1, 'German':2})\n",
    "data_mapped"
   ]
  },
  {
   "cell_type": "code",
   "execution_count": 10,
   "metadata": {},
   "outputs": [],
   "source": [
    "# Slicing the dataframe, fitting and predicting\n",
    "feature = data_mapped.iloc[:,3:4]\n",
    "clusters = kmeans.fit_predict(feature)"
   ]
  },
  {
   "cell_type": "code",
   "execution_count": 11,
   "metadata": {},
   "outputs": [
    {
     "data": {
      "image/png": "[encoded data removed]",
      "text/plain": [
       "<Figure size 432x288 with 1 Axes>"
      ]
     },
     "metadata": {
      "needs_background": "light"
     },
     "output_type": "display_data"
    }
   ],
   "source": [
    "plt.scatter(data_with_clusters['Longitude'], data_with_clusters['Latitude'], c=clusters, cmap='rainbow')\n",
    "plt.xlim(-180, 180)\n",
    "plt.ylim(-90, 90)\n",
    "plt.show()"
   ]
  },
  {
   "cell_type": "markdown",
   "metadata": {},
   "source": [
    "This time our result was very distinct from the first one. Now the clusters do not represent the continent of a set of countries but the language spoken in each of them. This is expected as we used only the language as the only feature of the model."
   ]
  },
  {
   "cell_type": "markdown",
   "metadata": {},
   "source": [
    "### Example 2"
   ]
  },
  {
   "cell_type": "markdown",
   "metadata": {},
   "source": [
    "Let's work in a more complex example. This time, we will perform K-Means in an artifical dataset just for practice purposes. First, we'll create 3 sample distributions:"
   ]
  },
  {
   "cell_type": "code",
   "execution_count": 12,
   "metadata": {},
   "outputs": [],
   "source": [
    "MAXN = 40\n",
    "\n",
    "data = np.concatenate([1.25*np.random.randn(MAXN, 2), \n",
    "                   5 + 1.5*np.random.randn(MAXN, 2)])\n",
    "data = np.concatenate([data, [8, 3] + 1.2*np.random.randn(MAXN, 2)])"
   ]
  },
  {
   "cell_type": "code",
   "execution_count": 13,
   "metadata": {},
   "outputs": [],
   "source": [
    "df = pd.DataFrame(data={'x' : data[:,0], 'y' : data[:,1]})"
   ]
  },
  {
   "cell_type": "code",
   "execution_count": 14,
   "metadata": {},
   "outputs": [
    {
     "data": {
      "image/png": "[encoded data removed]",
      "text/plain": [
       "<Figure size 432x288 with 1 Axes>"
      ]
     },
     "metadata": {
      "needs_background": "light"
     },
     "output_type": "display_data"
    }
   ],
   "source": [
    "plt.scatter(df['x'], df['y'])\n",
    "plt.show()"
   ]
  },
  {
   "cell_type": "markdown",
   "metadata": {},
   "source": [
    "Let us assume that we expect to have three clusters ($k = 3$) and apply the K-means commmand from the Scikit-Learn library. But before that, it is important to note that the algorithm may not ensure convergence to the global minimum. It can be\n",
    "shown that K-means will always converge to a local minimum of the inertia, which is a topic that will be explored later.\n",
    "\n",
    "The fact is that K-means performance depends on the random initialization of the seeds, but some seeds\n",
    "can result in a poor convergence rate, or convergence to suboptimal clustering. To alleviate the problem of local minima, the K-means computation is often performed several times, with different centroid initializations. One way to address this issue is the k-means++ initialization scheme, which has been implemented in Scikit-Learn (use the init=’kmeans++’ parameter). This parameter initializes the centroids to be (generally) far from each other, thereby probably leading to better results than random initialization. You just need to care about initialization if you are using another package different from Scikit-Learn.\n",
    "\n",
    "Time to code!"
   ]
  },
  {
   "cell_type": "code",
   "execution_count": 15,
   "metadata": {},
   "outputs": [],
   "source": [
    "kmeans = KMeans(init = 'k-means++', n_clusters = 3)\n",
    "clusters = kmeans.fit_predict(df)"
   ]
  },
  {
   "cell_type": "code",
   "execution_count": 16,
   "metadata": {},
   "outputs": [
    {
     "data": {
      "image/png": "[encoded data removed]",
      "text/plain": [
       "<Figure size 432x288 with 1 Axes>"
      ]
     },
     "metadata": {
      "needs_background": "light"
     },
     "output_type": "display_data"
    }
   ],
   "source": [
    "plt.scatter(df['x'],df['y'], c=clusters, cmap='rainbow')\n",
    "plt.show()"
   ]
  },
  {
   "cell_type": "markdown",
   "metadata": {},
   "source": [
    "There it is! The result looks great, we can clearly see three different classes in the scatter plot."
   ]
  },
  {
   "cell_type": "code",
   "execution_count": 17,
   "metadata": {},
   "outputs": [
    {
     "data": {
      "text/html": [
       "<div>\n",
       "<style scoped>\n",
       "    .dataframe tbody tr th:only-of-type {\n",
       "        vertical-align: middle;\n",
       "    }\n",
       "\n",
       "    .dataframe tbody tr th {\n",
       "        vertical-align: top;\n",
       "    }\n",
       "\n",
       "    .dataframe thead th {\n",
       "        text-align: right;\n",
       "    }\n",
       "</style>\n",
       "<table border=\"1\" class=\"dataframe\">\n",
       "  <thead>\n",
       "    <tr style=\"text-align: right;\">\n",
       "      <th></th>\n",
       "      <th>x</th>\n",
       "      <th>y</th>\n",
       "      <th>Clusters</th>\n",
       "    </tr>\n",
       "  </thead>\n",
       "  <tbody>\n",
       "    <tr>\n",
       "      <th>0</th>\n",
       "      <td>2.349278</td>\n",
       "      <td>0.929772</td>\n",
       "      <td>0</td>\n",
       "    </tr>\n",
       "    <tr>\n",
       "      <th>1</th>\n",
       "      <td>-0.808534</td>\n",
       "      <td>-0.929181</td>\n",
       "      <td>0</td>\n",
       "    </tr>\n",
       "    <tr>\n",
       "      <th>2</th>\n",
       "      <td>3.433092</td>\n",
       "      <td>-3.037215</td>\n",
       "      <td>0</td>\n",
       "    </tr>\n",
       "    <tr>\n",
       "      <th>3</th>\n",
       "      <td>1.040484</td>\n",
       "      <td>0.819117</td>\n",
       "      <td>0</td>\n",
       "    </tr>\n",
       "    <tr>\n",
       "      <th>4</th>\n",
       "      <td>1.215176</td>\n",
       "      <td>0.654148</td>\n",
       "      <td>0</td>\n",
       "    </tr>\n",
       "  </tbody>\n",
       "</table>\n",
       "</div>"
      ],
      "text/plain": [
       "          x         y  Clusters\n",
       "0  2.349278  0.929772         0\n",
       "1 -0.808534 -0.929181         0\n",
       "2  3.433092 -3.037215         0\n",
       "3  1.040484  0.819117         0\n",
       "4  1.215176  0.654148         0"
      ]
     },
     "execution_count": 17,
     "metadata": {},
     "output_type": "execute_result"
    }
   ],
   "source": [
    "df['Clusters'] = clusters\n",
    "df.head()"
   ]
  },
  {
   "cell_type": "code",
   "execution_count": 18,
   "metadata": {},
   "outputs": [
    {
     "data": {
      "text/html": [
       "<div>\n",
       "<style scoped>\n",
       "    .dataframe tbody tr th:only-of-type {\n",
       "        vertical-align: middle;\n",
       "    }\n",
       "\n",
       "    .dataframe tbody tr th {\n",
       "        vertical-align: top;\n",
       "    }\n",
       "\n",
       "    .dataframe thead th {\n",
       "        text-align: right;\n",
       "    }\n",
       "</style>\n",
       "<table border=\"1\" class=\"dataframe\">\n",
       "  <thead>\n",
       "    <tr style=\"text-align: right;\">\n",
       "      <th></th>\n",
       "      <th>x</th>\n",
       "      <th>y</th>\n",
       "      <th>class</th>\n",
       "    </tr>\n",
       "  </thead>\n",
       "  <tbody>\n",
       "    <tr>\n",
       "      <th>0</th>\n",
       "      <td>2.349278</td>\n",
       "      <td>0.929772</td>\n",
       "      <td>blue</td>\n",
       "    </tr>\n",
       "    <tr>\n",
       "      <th>1</th>\n",
       "      <td>-0.808534</td>\n",
       "      <td>-0.929181</td>\n",
       "      <td>blue</td>\n",
       "    </tr>\n",
       "    <tr>\n",
       "      <th>2</th>\n",
       "      <td>3.433092</td>\n",
       "      <td>-3.037215</td>\n",
       "      <td>blue</td>\n",
       "    </tr>\n",
       "    <tr>\n",
       "      <th>3</th>\n",
       "      <td>1.040484</td>\n",
       "      <td>0.819117</td>\n",
       "      <td>blue</td>\n",
       "    </tr>\n",
       "    <tr>\n",
       "      <th>4</th>\n",
       "      <td>1.215176</td>\n",
       "      <td>0.654148</td>\n",
       "      <td>blue</td>\n",
       "    </tr>\n",
       "  </tbody>\n",
       "</table>\n",
       "</div>"
      ],
      "text/plain": [
       "          x         y class\n",
       "0  2.349278  0.929772  blue\n",
       "1 -0.808534 -0.929181  blue\n",
       "2  3.433092 -3.037215  blue\n",
       "3  1.040484  0.819117  blue\n",
       "4  1.215176  0.654148  blue"
      ]
     },
     "execution_count": 18,
     "metadata": {},
     "output_type": "execute_result"
    }
   ],
   "source": [
    "df['class'] = df['Clusters'].map({0:'blue', 1:'green', 2:'red'})\n",
    "df = df.drop('Clusters', axis=1)\n",
    "df.head()"
   ]
  },
  {
   "cell_type": "markdown",
   "metadata": {},
   "source": [
    "## 2. How to choose the number of clusters?"
   ]
  },
  {
   "cell_type": "markdown",
   "metadata": {},
   "source": [
    "The K-means algorithm solves the following minimization problem:\n",
    "    \n",
    "$$arg min_c \\sum_{j=1}^k {\\sum_{x \\in c_j} {d(x,\\mu_j)}}$$\n",
    "\n",
    "Where $k$ is the number of clusters, $c_i$ is the set of points that belong to cluster $i$ and $\\mu_i$ is the centroid of the class represented by $c_i$. This equation tell us that the k-means aims to minimize the distance between each point and the centroid representing its cluster. It can be shown that this is equivalent to maximize the distance between clusters. You can learn more about this in the [wikipedia](https://en.wikipedia.org/wiki/K-means_clustering) website.\n",
    "\n",
    "K-means clustering objective function uses the square of the Euclidean distance $d(x, \\mu_j)$, which is the euclidean distance equation already defined in the pre-requisite section. It is also referred to as the _inertia_ or _within-cluster sum-of-squares_. \n",
    "\n",
    "From the definition of **inertia**, arises a problem. Take the first example. There we had 6 countries, say we try to run the algorithm again on that problem, this time with 6 clusters. Fatally, each of the 6 centroids will coincide with each point coordinate. This means that the distance between points in a cluster and its centroid will be zero. This implies that the inertia will also be zero!\n",
    "\n",
    "This should make us happy because we reached the minimum zero, in other words, we solved the minimization problem! But there is no point in set the number of clusters equals to the number of data points. Imagine this same case to a thousand data points!\n",
    "\n",
    "The purpose of using K-means is to identify patterns in the data and divide the data that share similarities to fit into these patterns. So, let's it's is obvious that the number of clusters $c_i$ will always be less than the number of points. Mathematically, if $c_i$ represents the number of clusters and $n$ the number of points, then $i < n$. Similarly, if we use only one cluster, then all data will be classified as being of that unique class, this is another useless solution! Therefore, $1 < i < n$."
   ]
  },
  {
   "cell_type": "markdown",
   "metadata": {},
   "source": [
    "### The Elbow Method"
   ]
  },
  {
   "cell_type": "markdown",
   "metadata": {},
   "source": [
    "The best number of clusters is the one that provides the minimum inertia value with just a few clusters. Let's take the dataset of the example 2 and plot a graph of the inertia _vs_ the number of clusters."
   ]
  },
  {
   "cell_type": "code",
   "execution_count": 19,
   "metadata": {},
   "outputs": [],
   "source": [
    "# drop the class column in order to have only the features in df\n",
    "new_df = df.copy()\n",
    "new_df = new_df.drop('class', axis=1)\n",
    "\n",
    "# empty list for inertia values\n",
    "inertia = []\n",
    "\n",
    "for i in range(1,10):\n",
    "    # instantiating a kmeans model with i clusters\n",
    "    kmeans = KMeans(n_clusters=i)\n",
    "    \n",
    "    # fitting the model to the data\n",
    "    kmeans.fit(new_df)\n",
    "    \n",
    "    # appending the inertia of the model to the list\n",
    "    inertia.append(kmeans.inertia_)\n",
    "    \n",
    "    # ignore this if statement\n",
    "    if i == 3:\n",
    "        elbow = kmeans.inertia_\n",
    "\n",
    "# creating a list with the number of clusters\n",
    "number_of_clusters = range(1,10)"
   ]
  },
  {
   "cell_type": "code",
   "execution_count": 20,
   "metadata": {},
   "outputs": [
    {
     "data": {
      "image/png": "[encoded data removed]",
      "text/plain": [
       "<Figure size 432x288 with 1 Axes>"
      ]
     },
     "metadata": {
      "needs_background": "light"
     },
     "output_type": "display_data"
    }
   ],
   "source": [
    "plt.plot(number_of_clusters, inertia)\n",
    "plt.plot(3, elbow, 'ro', label='Elbow')\n",
    "plt.legend()\n",
    "plt.xlabel('# of clusters')\n",
    "plt.ylabel('Inertia')\n",
    "plt.show()"
   ]
  },
  {
   "cell_type": "markdown",
   "metadata": {},
   "source": [
    "The graph yiels an interesting result. Let's first remember that the data was created based on three diferent sample distributions. From the graph, the inertia drops at an extremely high rate in the beggining. At some point it reaches the **elbow** (# of clusters equals to 3) and then there is no significant change in the inertia value from there on. \n",
    "\n",
    "The elbow method consists in adopt the number of clusters representing the elbow of this graph. Therefore, the ideal number of clusters for this problem is 3."
   ]
  },
  {
   "cell_type": "markdown",
   "metadata": {},
   "source": [
    "## 3. Standardization"
   ]
  },
  {
   "cell_type": "markdown",
   "metadata": {},
   "source": [
    "Imagine you have a dataset which consists of house prices (in dollars), sizes (in squared feet), and number of rooms. Therefore, each feature assumes values in a very distinct range. You want to split this dataset into clusters in order to identify different classes of houses.\n",
    "\n",
    "We already saw that the K-Means algorithm depends on the concept of distance between observations we're trying to cluster. Given that the house prices are on a much larger scale than the other variables, when K-Means calculate the \"distance\" of the points, this variable will overly influence the algorithm.\n",
    "\n",
    "Without some sort of standardization, the algorithm will depends only on the prices variable.\n",
    "\n",
    "The most common method applied to standardize variables is subtracting their mean and dividing by their standard deviation. This implies that the variables will have zero mean and unit variance. When the distribution of the variables aren't terribly skewed, this works fine. But for the case when we have many outliers, it becomes a better approach to substitute the standard deviation for the interquartile range, i. e. $Q_3 - Q_2$. By doing this, we avoid that outliers dramatically influence the algorithm. The same strategy can be applied to the mean. When we have many outliers, the median, which is a central tendendy measure, is not influenced by those outliers. Hence, it is safer to use the median.\n",
    "\n",
    "Summarying, you must judge if it is necessary or not standardizing variables. Assuming a normal distribution and no outliers, it is safe to standardize the variables using their mean and standard deviation. Conversely, if the data distribution is highly skewed and it presents many outliers, you can remove the outliers or standardize the variables using the median and the interquartile range."
   ]
  },
  {
   "cell_type": "markdown",
   "metadata": {},
   "source": [
    "## 4. K-Means Pros and Cons"
   ]
  },
  {
   "cell_type": "markdown",
   "metadata": {},
   "source": [
    "Now let's have a look at the Pros and Cons of K-Means. The pros are already known to you even if you didn't realize it yet.\n",
    "\n",
    "##### Pros\n",
    "\n",
    "    1. Simple to understand\n",
    "    2. Fast to cluster\n",
    "    3. Widely Available (there are several packages that implement K-Means)\n",
    "    4. Easy to implement \n",
    "    5. Always yields a result (also a con, as it may be deceiving)\n",
    "\n",
    "#### Cons\n",
    "\n",
    "    1. We need to choose the number of clusters (remedy: elbow method)\n",
    "    2. It is sensitive to initialization (remedy: kmeans++)\n",
    "    3. Sensitive to outliers (remedy: remove outliers)\n",
    "    4. Standardization"
   ]
  },
  {
   "cell_type": "markdown",
   "metadata": {},
   "source": [
    "## 5. Case Study: Customer Segmentation"
   ]
  },
  {
   "cell_type": "markdown",
   "metadata": {},
   "source": [
    "### Context"
   ]
  },
  {
   "cell_type": "markdown",
   "metadata": {},
   "source": [
    "In order to make significative decisions about their marketing strategies, it is essential for marketers to know the profile of their customer. Informations like how the customers spend their money, their level of satisfaction and loyalty helps a great deal when it is needed to define new strategies to attract more audience.\n",
    "\n",
    "In other words, knowing exactly what your customer wants helps you to make the right kind of promotional, marketing and product development strategies."
   ]
  },
  {
   "cell_type": "markdown",
   "metadata": {},
   "source": [
    "### The dataset and our objective"
   ]
  },
  {
   "cell_type": "markdown",
   "metadata": {},
   "source": [
    "The dataset consists of columns, one with measures of the satisfaction of the customers and another with measures of the loyalty of the each customer. We'll analyze the dataset and after a short exploratory data analysis, we'll split the data into cluster using the K-Means method. By doing this, we hope to identify the different classes of customers of shop and trace their behavior in order to get some insights about what we can possibly do to increase the sales of the shop.\n",
    "\n",
    "Firstly, let's introduce the dataset. Each row represents a customer that attended the shop in the last 8 months. There are 50 observations. The column satisfaction consists of values in a range from 0 to 10, where 10 means extremely satisfied. These data were collected direct from the customers. The second column, was destined for the loyalty of the customers. Considering the number of purchases that the customer did in the shop in the last 8 months, and also other factors, it was assigned a value for that customer between -3 and 3, where 3 indicates that the customer is extremely loyalty while -3 indicates that the customer is not likely to buy again in the shop."
   ]
  },
  {
   "cell_type": "markdown",
   "metadata": {},
   "source": [
    "### Exploratory data analysis"
   ]
  },
  {
   "cell_type": "code",
   "execution_count": 63,
   "metadata": {},
   "outputs": [],
   "source": [
    "data = pd.read_csv('datasets/customer_information.csv')"
   ]
  },
  {
   "cell_type": "code",
   "execution_count": 64,
   "metadata": {},
   "outputs": [
    {
     "data": {
      "text/html": [
       "<div>\n",
       "<style scoped>\n",
       "    .dataframe tbody tr th:only-of-type {\n",
       "        vertical-align: middle;\n",
       "    }\n",
       "\n",
       "    .dataframe tbody tr th {\n",
       "        vertical-align: top;\n",
       "    }\n",
       "\n",
       "    .dataframe thead th {\n",
       "        text-align: right;\n",
       "    }\n",
       "</style>\n",
       "<table border=\"1\" class=\"dataframe\">\n",
       "  <thead>\n",
       "    <tr style=\"text-align: right;\">\n",
       "      <th></th>\n",
       "      <th>Satisfaction</th>\n",
       "      <th>Loyalty</th>\n",
       "    </tr>\n",
       "  </thead>\n",
       "  <tbody>\n",
       "    <tr>\n",
       "      <th>0</th>\n",
       "      <td>2</td>\n",
       "      <td>-0.307216</td>\n",
       "    </tr>\n",
       "    <tr>\n",
       "      <th>1</th>\n",
       "      <td>9</td>\n",
       "      <td>1.873477</td>\n",
       "    </tr>\n",
       "    <tr>\n",
       "      <th>2</th>\n",
       "      <td>5</td>\n",
       "      <td>0.136080</td>\n",
       "    </tr>\n",
       "    <tr>\n",
       "      <th>3</th>\n",
       "      <td>6</td>\n",
       "      <td>2.392349</td>\n",
       "    </tr>\n",
       "    <tr>\n",
       "      <th>4</th>\n",
       "      <td>1</td>\n",
       "      <td>-0.801104</td>\n",
       "    </tr>\n",
       "  </tbody>\n",
       "</table>\n",
       "</div>"
      ],
      "text/plain": [
       "   Satisfaction   Loyalty\n",
       "0             2 -0.307216\n",
       "1             9  1.873477\n",
       "2             5  0.136080\n",
       "3             6  2.392349\n",
       "4             1 -0.801104"
      ]
     },
     "execution_count": 64,
     "metadata": {},
     "output_type": "execute_result"
    }
   ],
   "source": [
    "data.head()"
   ]
  },
  {
   "cell_type": "code",
   "execution_count": 82,
   "metadata": {},
   "outputs": [
    {
     "data": {
      "text/html": [
       "<div>\n",
       "<style scoped>\n",
       "    .dataframe tbody tr th:only-of-type {\n",
       "        vertical-align: middle;\n",
       "    }\n",
       "\n",
       "    .dataframe tbody tr th {\n",
       "        vertical-align: top;\n",
       "    }\n",
       "\n",
       "    .dataframe thead th {\n",
       "        text-align: right;\n",
       "    }\n",
       "</style>\n",
       "<table border=\"1\" class=\"dataframe\">\n",
       "  <thead>\n",
       "    <tr style=\"text-align: right;\">\n",
       "      <th></th>\n",
       "      <th>Satisfaction</th>\n",
       "      <th>Loyalty</th>\n",
       "    </tr>\n",
       "  </thead>\n",
       "  <tbody>\n",
       "    <tr>\n",
       "      <th>count</th>\n",
       "      <td>50.000000</td>\n",
       "      <td>50.000000</td>\n",
       "    </tr>\n",
       "    <tr>\n",
       "      <th>mean</th>\n",
       "      <td>4.260000</td>\n",
       "      <td>0.056036</td>\n",
       "    </tr>\n",
       "    <tr>\n",
       "      <th>std</th>\n",
       "      <td>2.640424</td>\n",
       "      <td>1.389904</td>\n",
       "    </tr>\n",
       "    <tr>\n",
       "      <th>min</th>\n",
       "      <td>0.000000</td>\n",
       "      <td>-2.545921</td>\n",
       "    </tr>\n",
       "    <tr>\n",
       "      <th>25%</th>\n",
       "      <td>2.000000</td>\n",
       "      <td>-0.890733</td>\n",
       "    </tr>\n",
       "    <tr>\n",
       "      <th>50%</th>\n",
       "      <td>4.500000</td>\n",
       "      <td>0.015094</td>\n",
       "    </tr>\n",
       "    <tr>\n",
       "      <th>75%</th>\n",
       "      <td>6.750000</td>\n",
       "      <td>1.086496</td>\n",
       "    </tr>\n",
       "    <tr>\n",
       "      <th>max</th>\n",
       "      <td>9.000000</td>\n",
       "      <td>2.971337</td>\n",
       "    </tr>\n",
       "  </tbody>\n",
       "</table>\n",
       "</div>"
      ],
      "text/plain": [
       "       Satisfaction    Loyalty\n",
       "count     50.000000  50.000000\n",
       "mean       4.260000   0.056036\n",
       "std        2.640424   1.389904\n",
       "min        0.000000  -2.545921\n",
       "25%        2.000000  -0.890733\n",
       "50%        4.500000   0.015094\n",
       "75%        6.750000   1.086496\n",
       "max        9.000000   2.971337"
      ]
     },
     "execution_count": 82,
     "metadata": {},
     "output_type": "execute_result"
    }
   ],
   "source": [
    "data.describe()"
   ]
  },
  {
   "cell_type": "markdown",
   "metadata": {},
   "source": [
    "The one conclusion we can extract from the table is that the average satisfaction does not seems good. The value 4.26 indicates that the customers are not satisfied with the shop. On the other hand, an average of 0.056 for the loyalty column indicates that the customers are moderately loyal to the shop.\n",
    "\n",
    "This could be a situation where the shop is in a remote area and does not provides a very satisfactory service but still have some faithful customers because of the convenience of being situated near them."
   ]
  },
  {
   "cell_type": "code",
   "execution_count": 93,
   "metadata": {},
   "outputs": [
    {
     "data": {
      "text/plain": [
       "Text(0.5,0,'Loyalty / Satisfaction')"
      ]
     },
     "execution_count": 93,
     "metadata": {},
     "output_type": "execute_result"
    },
    {
     "data": {
      "image/png": "[encoded data removed]",
      "text/plain": [
       "<Figure size 432x288 with 1 Axes>"
      ]
     },
     "metadata": {
      "needs_background": "light"
     },
     "output_type": "display_data"
    }
   ],
   "source": [
    "sat = sns.distplot(data['Satisfaction'],bins=10)\n",
    "loy = sns.distplot(data['Loyalty'])\n",
    "plt.xlabel('Loyalty / Satisfaction')"
   ]
  },
  {
   "cell_type": "markdown",
   "metadata": {},
   "source": [
    "The data does not presents high skewness, therefore, we will not need to apply any treatement with respect to its distribution. At least, not yet."
   ]
  },
  {
   "cell_type": "code",
   "execution_count": 103,
   "metadata": {},
   "outputs": [
    {
     "data": {
      "image/png": "[encoded data removed]",
      "text/plain": [
       "<Figure size 432x288 with 1 Axes>"
      ]
     },
     "metadata": {
      "needs_background": "light"
     },
     "output_type": "display_data"
    }
   ],
   "source": [
    "plt.subplot()\n",
    "plt.scatter(data['Satisfaction'],data['Loyalty'])\n",
    "plt.xlabel('Satisfaction')\n",
    "plt.ylabel('Loyalty')\n",
    "plt.show()"
   ]
  },
  {
   "cell_type": "markdown",
   "metadata": {},
   "source": [
    "### Will we need standardization?"
   ]
  },
  {
   "cell_type": "markdown",
   "metadata": {},
   "source": [
    "Now we are free to perform clustering in the data. Let's begin with a simple case. As we do not know much about the data yet, we will divide it into two clusters and try to get some insights from the results."
   ]
  },
  {
   "cell_type": "code",
   "execution_count": 105,
   "metadata": {},
   "outputs": [],
   "source": [
    "kmeans = KMeans(2)\n",
    "clusters = kmeans.fit_predict(data)"
   ]
  },
  {
   "cell_type": "code",
   "execution_count": 115,
   "metadata": {},
   "outputs": [
    {
     "data": {
      "image/png": "[encoded data removed]",
      "text/plain": [
       "<Figure size 432x288 with 1 Axes>"
      ]
     },
     "metadata": {
      "needs_background": "light"
     },
     "output_type": "display_data"
    }
   ],
   "source": [
    "plt.scatter(data['Satisfaction'],data['Loyalty'], c=clusters, cmap='rainbow')\n",
    "plt.xlabel('Satisfaction')\n",
    "plt.ylabel('Loyalty')\n",
    "plt.show()"
   ]
  },
  {
   "cell_type": "markdown",
   "metadata": {},
   "source": [
    "Certainly, there are many ways to split the data into two cluster. But have a look at the results, imagine a vertical line separating the red points from the blue points. It is easy to see that the algorithm divided the data into two classes, where the blue class are for the customers less satisfied and the red class with with the customers more satisfied.\n",
    "\n",
    "Well, doesn't it consider the loyalty values? Apparently no! That's due to the fact that the two variables are in a distinct scale. The satisfaction values are significantly greater than the loyalty feature values. Thus, we need to apply _standardization_ to the Satisfaction variable."
   ]
  }
 ],
 "metadata": {
  "kernelspec": {
   "display_name": "Python 3",
   "language": "python",
   "name": "python3"
  },
  "language_info": {
   "codemirror_mode": {
    "name": "ipython",
    "version": 3
   },
   "file_extension": ".py",
   "mimetype": "text/x-python",
   "name": "python",
   "nbconvert_exporter": "python",
   "pygments_lexer": "ipython3",
   "version": "3.6.6"
  }
 },
 "nbformat": 4,
 "nbformat_minor": 2
}
