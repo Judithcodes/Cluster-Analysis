{
 "cells": [
  {
   "cell_type": "markdown",
   "metadata": {},
   "source": [
    "# Cluster Analysis"
   ]
  },
  {
   "cell_type": "markdown",
   "metadata": {},
   "source": [
    "Cluster analysis is a multivariate statistical technique that groups observations on the basis some of their features or variables they are described by.\n",
    "\n",
    "In this notebook we will explore:\n",
    "\n",
    "    1. Several Clustering Problems\n",
    "    2. How to perform cluster analysis\n",
    "    3. How to find the optimal number of clusters\n",
    "    4. How to identify appropriate features\n",
    "    5. How to interpret the results"
   ]
  },
  {
   "cell_type": "markdown",
   "metadata": {},
   "source": [
    "### Math Pre-requisites"
   ]
  },
  {
   "cell_type": "markdown",
   "metadata": {},
   "source": [
    "In order to study and apply efficiently the K-means clustering method, we need to understand its underlying procedure. In other words, we must understand the mathematical approach behind the technique. We will define two concepts here, the **euclidian distance** and the concept of **centroid**.\n",
    "\n",
    "______________\n",
    "#### Euclidean distance\n",
    "\n",
    "the Euclidean distance between two points $x$ and $y$ in a bidimensional space is the **length of the line** connecting them.\n",
    "\n",
    "<img src='images/euclidean.png'>\n",
    "\n",
    "As you can see from the figure, we can draw a triangle in the plane with the coordinate of the points. Consequently, the distance is given by the Pythagoras' theorem. Therefore,\n",
    "\n",
    "$$d(x,y)^2 = (y_1 - x_1)^2 + (y_2 - x_2)^2$$ \n",
    "\n",
    "where $x = (x_1,x_2)$ and $y = (y_1,y_2)$ are the coordinates of the points $x$ and $y$, respectively. The equation can be written in the following way\n",
    "\n",
    "$$d(x,y) = \\sqrt{(y_1 - x_1)^2 + (y_2 - x_2)^2}$$ \n",
    "\n",
    "analogously, we can also use this result for n-dimensional spaces. Therefore, for $x = (x_1, x_2, ... , x_n)$ and $y = (y_1, y_2, ... , y_n)$\n",
    "\n",
    "$$d(x,y) = \\sqrt{(y_1 - x_1)^2 + (y_2 - x_2)^2 + ... + (y_n - x_n)^2}$$ \n",
    "\n",
    "_____________\n",
    "#### Centroid\n",
    "\n",
    "In mathematics and physics, the centroid or geometric center of a plane figure is the **arithmetic mean position** of all the points in the figure. For example, take 3 points, $a = (2, 1)$, $b = (3, 4)$ and $c = (4, 1)$. the centroid, $\\alpha$, is given by \n",
    "\n",
    "$$\\alpha = (\\tfrac{2 + 3 + 4}{3},\\tfrac{1 + 4 + 1}{3}) = (3, 2)$$\n",
    "\n",
    "Maybe it will be easier if we visualize the points\n",
    "\n",
    "<img src='images/centroid.png'>\n",
    "\n",
    "This is a simple example but we can extend this result to more complex situations and any number of points."
   ]
  },
  {
   "cell_type": "markdown",
   "metadata": {},
   "source": [
    "## 1. K-Means Clustering"
   ]
  }
 ],
 "metadata": {
  "kernelspec": {
   "display_name": "Python 3",
   "language": "python",
   "name": "python3"
  },
  "language_info": {
   "codemirror_mode": {
    "name": "ipython",
    "version": 3
   },
   "file_extension": ".py",
   "mimetype": "text/x-python",
   "name": "python",
   "nbconvert_exporter": "python",
   "pygments_lexer": "ipython3",
   "version": "3.6.8"
  }
 },
 "nbformat": 4,
 "nbformat_minor": 2
}
